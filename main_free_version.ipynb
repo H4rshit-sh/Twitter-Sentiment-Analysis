{
 "cells": [
  {
   "cell_type": "markdown",
   "id": "d3f0cf65",
   "metadata": {},
   "source": [
    "# Twitter Sentiment Analysis 📊  \n",
    "This notebook performs sentiment analysis on live tweets using the **Tweepy** API and **TextBlob**.  \n",
    "It includes:  \n",
    "* Twitter API authentication  \n",
    "* Fetching real-time tweets   \n",
    "* Sentiment analysis (Positive, Negative, Neutral)   \n",
    "* Data visualization \n"
   ]
  },
  {
   "cell_type": "markdown",
   "id": "79c4941e",
   "metadata": {},
   "source": [
    "## 1️⃣ Importing Required Libraries"
   ]
  },
  {
   "cell_type": "code",
   "execution_count": null,
   "id": "1c931d58",
   "metadata": {},
   "outputs": [],
   "source": [
    "import tweepy\n",
    "from textblob import TextBlob\n",
    "import pandas as pd\n",
    "import matplotlib.pyplot as plt\n",
    "import tweepy.client\n",
    "\n"
   ]
  },
  {
   "cell_type": "markdown",
   "id": "22605d62",
   "metadata": {},
   "source": [
    "## 2️⃣ Setting Up Twitter API Authentication 🔑"
   ]
  },
  {
   "cell_type": "code",
   "execution_count": null,
   "id": "a1d76b29",
   "metadata": {},
   "outputs": [],
   "source": [
    "consumer_key = 'YOUR_CONSUMER_KEY'\n",
    "consumer_secret = 'YOUR_CONSUMER_SECRET'\n",
    "bearer_token = 'YOUR_BEARER_TOKEN'\n",
    "access_token = 'YOUR_ACCESS_TOKEN'\n",
    "access_secret = 'YOUR_ACCESS_SECRET'\n",
    "\n",
    "#authenticating\n",
    "client = tweepy.Client( \n",
    "    bearer_token=bearer_token,\n",
    "    consumer_key=consumer_key,\n",
    "    consumer_secret=consumer_secret,\n",
    "    access_token=access_token,\n",
    "    access_token_secret=access_secret)"
   ]
  },
  {
   "cell_type": "markdown",
   "id": "ec6954d5",
   "metadata": {},
   "source": [
    "## 3️⃣ Fetching Tweets from Twitter 🐦"
   ]
  },
  {
   "cell_type": "code",
   "execution_count": null,
   "id": "97ef7047",
   "metadata": {},
   "outputs": [],
   "source": [
    "#fetch tweets from X\n",
    "def fetch_tweets(keyword , count):\n",
    "    try:\n",
    "        response = client.search_recent_tweets(query=keyword ,tweet_fields=['context_annotations', 'created_at'], max_results = min(count,100))\n",
    "        tweets = response.data\n",
    "        return tweets\n",
    "    except Exception as e:\n",
    "        print(f\"Error fetching tweets: {e}\")\n",
    "        return None"
   ]
  },
  {
   "cell_type": "markdown",
   "id": "0d4f9350",
   "metadata": {},
   "source": [
    "## 4️⃣ Creating get sentiment func\n"
   ]
  },
  {
   "cell_type": "code",
   "execution_count": null,
   "id": "b539adec",
   "metadata": {},
   "outputs": [],
   "source": [
    "#get sentiment func\n",
    "def get_sentiment(tweet_text):\n",
    "    analysis = TextBlob(tweet_text)\n",
    "    if analysis.sentiment.polarity > 0:\n",
    "        return \"Positive\"\n",
    "    elif analysis.sentiment.polarity == 0:\n",
    "        return \"Neutral\"\n",
    "    else:\n",
    "        return \"Negative\""
   ]
  },
  {
   "cell_type": "markdown",
   "id": "c1a13954",
   "metadata": {},
   "source": [
    "## 5️⃣ Performing Sentiment Analysis "
   ]
  },
  {
   "cell_type": "code",
   "execution_count": null,
   "id": "f9667e97",
   "metadata": {},
   "outputs": [],
   "source": [
    "\n",
    "#main func    \n",
    "if __name__ == \"__main__\":        \n",
    "    keyword = input(\"enter keyword :\")\n",
    "    count = int(input(\"count :\"))\n",
    "    tweets = fetch_tweets(keyword,count)\n",
    "\n",
    "    if tweets:\n",
    "        tweets_data = []\n",
    "        for tweet in tweets:\n",
    "            sentiment = get_sentiment(tweet.text)\n",
    "            print(f\"Tweet: {tweet.text}\")\n",
    "            print(f\"Sentiment: {sentiment}\")\n",
    "            print(\"-\" * 50)\n",
    "            tweets_data.append({'Tweet' : tweet.text , 'Sentiment' : sentiment})\n",
    "\n",
    "    else:\n",
    "        print(\"No tweets found.\")"
   ]
  },
  {
   "cell_type": "markdown",
   "id": "b215d05a",
   "metadata": {},
   "source": [
    "## 6️⃣ Visualizing Sentiment Distribution 📊"
   ]
  },
  {
   "cell_type": "code",
   "execution_count": null,
   "id": "61b6d433",
   "metadata": {},
   "outputs": [],
   "source": [
    "#visualization\n",
    "df = pd.DataFrame(tweets_data)\n",
    "\n",
    "sentiment_count = df['Sentiment'].value_counts()\n",
    "sentiment_count.plot( kind='bar', color = ['green','blue','red'])\n",
    "plt.title('Sentiment distribution')\n",
    "plt.xlabel('Sentiment')\n",
    "plt.ylabel('Frequncy')\n",
    "plt.show()\n",
    "\n"
   ]
  },
  {
   "cell_type": "markdown",
   "id": "35e58483",
   "metadata": {},
   "source": [
    "## 7️⃣ Conclusion & Observations 🔍"
   ]
  },
  {
   "cell_type": "markdown",
   "id": "419157e5",
   "metadata": {},
   "source": [
    "## Key Takeaways 📝  \n",
    "🔹 **Positive tweets** indicate strong customer satisfaction.  \n",
    "🔹 **Negative tweets** highlight issues that may require intervention.  \n",
    "🔹 **Neutral tweets** can be used for further in-depth analysis.  \n",
    "This analysis can be extended using **Machine Learning models** for better accuracy! "
   ]
  }
 ],
 "metadata": {
  "language_info": {
   "name": "python"
  }
 },
 "nbformat": 4,
 "nbformat_minor": 5
}
