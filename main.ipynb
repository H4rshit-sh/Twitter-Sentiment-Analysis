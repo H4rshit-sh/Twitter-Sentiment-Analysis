{
 "cells": [
  {
   "cell_type": "markdown",
   "id": "e85d278f",
   "metadata": {},
   "source": [
    "# Twitter Sentiment Analysis 📊  \n",
    "This notebook performs sentiment analysis on live tweets using the **Tweepy** API and **TextBlob**.  \n",
    "It includes:  \n",
    "✔️ Twitter API authentication 🛠️  \n",
    "✔️ Fetching real-time tweets 🐦  \n",
    "✔️ Sentiment analysis (Positive, Negative, Neutral) 🧠  \n",
    "✔️ Data visualization 📈  \n"
   ]
  },
  {
   "cell_type": "markdown",
   "id": "a9031c4b",
   "metadata": {},
   "source": [
    "## 1️⃣ Importing Required Libraries"
   ]
  },
  {
   "cell_type": "code",
   "execution_count": null,
   "id": "f06cec50",
   "metadata": {},
   "outputs": [],
   "source": [
    "import tweepy\n",
    "from textblob import TextBlob\n",
    "import pandas as pd\n",
    "import matplotlib.pyplot as plt\n",
    "\n",
    "#setup auth\n"
   ]
  },
  {
   "cell_type": "markdown",
   "id": "a695cfbe",
   "metadata": {},
   "source": [
    "## 2️⃣ Setting Up Twitter API Authentication 🔑"
   ]
  },
  {
   "cell_type": "code",
   "execution_count": null,
   "id": "71d4976c",
   "metadata": {},
   "outputs": [],
   "source": [
    "consumer_key = 'YOUR_CONSUMER_KEY'\n",
    "consumer_secret = 'YOUR_CONSUMER_SECRET'\n",
    "bearer_token = 'YOUR_BEARER_TOKEN'\n",
    "access_token = 'YOUR_ACCESS_TOKEN'\n",
    "access_secret = 'YOUR_ACCESS_SECRET'"
   ]
  },
  {
   "cell_type": "markdown",
   "id": "a88e39a8",
   "metadata": {},
   "source": [
    "## 3️⃣ Fetching Tweets from Twitter 🐦"
   ]
  },
  {
   "cell_type": "code",
   "execution_count": null,
   "id": "cb6477fd",
   "metadata": {},
   "outputs": [],
   "source": [
    "\n",
    "auth = tweepy.OAuthHandler(consumer_key,consumer_secret)\n",
    "auth.set_access_token(access_token,access_secret)\n",
    "api = tweepy.API(auth , wait_on_rate_limit= True)"
   ]
  },
  {
   "cell_type": "markdown",
   "id": "5522a78b",
   "metadata": {},
   "source": [
    "## 4️⃣ Creating get statment function"
   ]
  },
  {
   "cell_type": "code",
   "execution_count": null,
   "id": "5caea230",
   "metadata": {},
   "outputs": [],
   "source": [
    "\n",
    "#get sentiment func\n",
    "def get_sentiment(tweet):\n",
    "        analysis = TextBlob(tweet.text)\n",
    "        if analysis.sentiment.polarity > 0:\n",
    "            return \"Positive\"\n",
    "        elif analysis.sentiment.polarity == 0:\n",
    "            return 'Neutral'\n",
    "        else:\n",
    "            return 'Negative'"
   ]
  },
  {
   "cell_type": "markdown",
   "id": "645ccdbc",
   "metadata": {},
   "source": [
    "## 5️⃣ Performing Sentiment Analysis 🧠"
   ]
  },
  {
   "cell_type": "code",
   "execution_count": null,
   "id": "8ff485bf",
   "metadata": {},
   "outputs": [],
   "source": [
    "#fetching tweeets\n",
    "keyword = input(\"enter keyword :\")\n",
    "key_count = int(input(\"count :\"))\n",
    "public_tweets = api.search_tweets(keyword, count = key_count)\n",
    "\n",
    "for tweet in public_tweets:\n",
    "    sentiment = get_sentiment(tweet.text)\n",
    "    print(f\"Tweet: {tweet.text}\")\n",
    "    print(f\"Sentiment: {sentiment}\")\n",
    "    print(\"-\" * 50)"
   ]
  },
  {
   "cell_type": "markdown",
   "id": "03c9f0ec",
   "metadata": {},
   "source": [
    "## 6️⃣ Visualizing Sentiment Distribution 📊"
   ]
  },
  {
   "cell_type": "code",
   "execution_count": null,
   "id": "0a6f4405",
   "metadata": {},
   "outputs": [],
   "source": [
    "df = pd.DataFrame({'Tweet': [tweet.text for tweet in public_tweets], 'Sentiment': sentiment})\n",
    "\n",
    "sentiment_count = df['Sentiment'].value_counts()\n",
    "sentiment_count.plot( kind='bar', color = ['green','blue','red'])\n",
    "plt.title =('Sentiment distribution')\n",
    "plt.xlabel = ('Sentiment')\n",
    "plt.ylabel= ('Frequncy')\n",
    "plt.show()\n"
   ]
  },
  {
   "cell_type": "markdown",
   "id": "6d7093cb",
   "metadata": {},
   "source": [
    "## Key Takeaways 📝  \n",
    "🔹 **Positive tweets** indicate strong customer satisfaction.  \n",
    "🔹 **Negative tweets** highlight issues that may require intervention.  \n",
    "🔹 **Neutral tweets** can be used for further in-depth analysis.  \n",
    "This analysis can be extended using **Machine Learning models** for better accuracy! 🚀"
   ]
  }
 ],
 "metadata": {
  "language_info": {
   "name": "python"
  }
 },
 "nbformat": 4,
 "nbformat_minor": 5
}
